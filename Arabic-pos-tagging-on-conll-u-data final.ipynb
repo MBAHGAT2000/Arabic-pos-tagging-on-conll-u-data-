{
 "cells": [
  {
   "cell_type": "markdown",
   "id": "be530ad5",
   "metadata": {
    "_cell_guid": "b1076dfc-b9ad-4769-8c92-a6c4dae69d19",
    "_uuid": "8f2839f25d086af736a60e9eeb907d3b93b6e0e5",
    "papermill": {
     "duration": 0.005559,
     "end_time": "2025-07-20T13:26:46.735939",
     "exception": false,
     "start_time": "2025-07-20T13:26:46.730380",
     "status": "completed"
    },
    "tags": []
   },
   "source": [
    "\n",
    "# QCRI Arabic POS Dialect Dataset — Quick Overview\n",
    "\n",
    "### Contains 350 manually annotated tweets per dialect in four Arabic dialects: Egyptian, Levantine, Gulf, and Maghrebi.\n",
    "### Each tweet is split into a list of words (words), each word is segmented into morphemes (segments), and each segment is labeled with a Part-of-Speech (POS) tag (pos_tags).\n",
    "### Tags follow a scheme that includes basic POS (noun, verb, adjective, etc.) and social media-specific tags (emoji, hashtag, mention, URL).\n",
    "### Example:\n",
    "### words:    [\"ليه\", \"لما\", \"تحب\", \"حد\"]\n",
    "### segments: [\"ليه\", \"لما\", \"تحب\", \"حد\"]\n",
    "### pos_tags: [\"PART\", \"PART\", \"V\", \"NOUN\"]\n",
    "### dialect:  \"egy\" (Egyptian)\n",
    "### Data fields:\n",
    "### words, segments, pos_tags, dialect, and split info for validation.\n",
    "\n",
    "### Purpose: Benchmark for POS tagging on real social media Arabic dialect data; useful for training and testing POS models beyond Modern Standard Arabic."
   ]
  },
  {
   "cell_type": "code",
   "execution_count": 1,
   "id": "735035c8",
   "metadata": {
    "execution": {
     "iopub.execute_input": "2025-07-20T13:26:46.747554Z",
     "iopub.status.busy": "2025-07-20T13:26:46.747173Z",
     "iopub.status.idle": "2025-07-20T13:27:14.310014Z",
     "shell.execute_reply": "2025-07-20T13:27:14.309070Z"
    },
    "papermill": {
     "duration": 27.571093,
     "end_time": "2025-07-20T13:27:14.312131",
     "exception": false,
     "start_time": "2025-07-20T13:26:46.741038",
     "status": "completed"
    },
    "tags": []
   },
   "outputs": [
    {
     "name": "stdout",
     "output_type": "stream",
     "text": [
      "Collecting pyconll\r\n",
      "  Downloading pyconll-3.2.0-py3-none-any.whl.metadata (8.0 kB)\r\n",
      "Downloading pyconll-3.2.0-py3-none-any.whl (27 kB)\r\n",
      "Installing collected packages: pyconll\r\n",
      "Successfully installed pyconll-3.2.0\r\n",
      "Requirement already satisfied: nltk in /opt/conda/lib/python3.10/site-packages (3.2.4)\r\n",
      "Requirement already satisfied: six in /opt/conda/lib/python3.10/site-packages (from nltk) (1.16.0)\r\n",
      "Requirement already satisfied: networkx in /opt/conda/lib/python3.10/site-packages (3.2.1)\r\n"
     ]
    }
   ],
   "source": [
    "# Install necessary libraries (only if not already installed in your environment)\n",
    "!pip install pyconll\n",
    "!pip install nltk\n",
    "!pip install networkx\n"
   ]
  },
  {
   "cell_type": "markdown",
   "id": "e37b6118",
   "metadata": {
    "execution": {
     "iopub.execute_input": "2025-07-16T21:40:08.961521Z",
     "iopub.status.busy": "2025-07-16T21:40:08.961078Z",
     "iopub.status.idle": "2025-07-16T21:40:21.600222Z",
     "shell.execute_reply": "2025-07-16T21:40:21.598914Z",
     "shell.execute_reply.started": "2025-07-16T21:40:08.961483Z"
    },
    "papermill": {
     "duration": 0.005089,
     "end_time": "2025-07-20T13:27:14.322903",
     "exception": false,
     "start_time": "2025-07-20T13:27:14.317814",
     "status": "completed"
    },
    "tags": []
   },
   "source": [
    "\n"
   ]
  },
  {
   "cell_type": "code",
   "execution_count": 2,
   "id": "2c3974e4",
   "metadata": {
    "execution": {
     "iopub.execute_input": "2025-07-20T13:27:14.335118Z",
     "iopub.status.busy": "2025-07-20T13:27:14.334465Z",
     "iopub.status.idle": "2025-07-20T13:27:25.488736Z",
     "shell.execute_reply": "2025-07-20T13:27:25.487801Z"
    },
    "papermill": {
     "duration": 11.162801,
     "end_time": "2025-07-20T13:27:25.490914",
     "exception": false,
     "start_time": "2025-07-20T13:27:14.328113",
     "status": "completed"
    },
    "tags": []
   },
   "outputs": [],
   "source": [
    "import pyconll\n",
    "import pandas as pd\n",
    "\n",
    "# File paths as provided in your notebook\n",
    "train_path = '/kaggle/input/ud-arabic-padt/ar_padt-ud-train.conllu'\n",
    "dev_path = '/kaggle/input/ud-arabic-padt/ar_padt-ud-dev.conllu'\n",
    "test_path = '/kaggle/input/ud-arabic-padt/ar_padt-ud-test.conllu'\n",
    "\n",
    "# Load data with pyconll\n",
    "train_sentences = pyconll.load_from_file(train_path)\n",
    "dev_sentences = pyconll.load_from_file(dev_path)\n",
    "test_sentences = pyconll.load_from_file(test_path)"
   ]
  },
  {
   "cell_type": "markdown",
   "id": "9c437e52",
   "metadata": {
    "papermill": {
     "duration": 0.005069,
     "end_time": "2025-07-20T13:27:25.501701",
     "exception": false,
     "start_time": "2025-07-20T13:27:25.496632",
     "status": "completed"
    },
    "tags": []
   },
   "source": [
    "## DataFrame Construction\n",
    "### Each row contains a sentence as a list of tokens and its corresponding POS tags."
   ]
  },
  {
   "cell_type": "code",
   "execution_count": 3,
   "id": "2345ca3b",
   "metadata": {
    "execution": {
     "iopub.execute_input": "2025-07-20T13:27:25.513813Z",
     "iopub.status.busy": "2025-07-20T13:27:25.512986Z",
     "iopub.status.idle": "2025-07-20T13:27:25.691054Z",
     "shell.execute_reply": "2025-07-20T13:27:25.690141Z"
    },
    "papermill": {
     "duration": 0.186266,
     "end_time": "2025-07-20T13:27:25.693149",
     "exception": false,
     "start_time": "2025-07-20T13:27:25.506883",
     "status": "completed"
    },
    "tags": []
   },
   "outputs": [],
   "source": [
    "def get_df(dataset):\n",
    "    samples = []\n",
    "    for sentence in dataset:\n",
    "        tokens = []\n",
    "        pos_tags = []\n",
    "        for token in sentence:\n",
    "            tokens.append(token.form)\n",
    "            pos_tags.append(token.upos)\n",
    "        samples.append((tokens, pos_tags))\n",
    "    return pd.DataFrame(samples, columns=['sent', 'pos_tags'])\n",
    "\n",
    "# Apply to all splits\n",
    "train_df = get_df(train_sentences)\n",
    "dev_df   = get_df(dev_sentences)\n",
    "test_df  = get_df(test_sentences)\n"
   ]
  },
  {
   "cell_type": "code",
   "execution_count": 4,
   "id": "1d0bc3b3",
   "metadata": {
    "execution": {
     "iopub.execute_input": "2025-07-20T13:27:25.706409Z",
     "iopub.status.busy": "2025-07-20T13:27:25.706089Z",
     "iopub.status.idle": "2025-07-20T13:27:25.736488Z",
     "shell.execute_reply": "2025-07-20T13:27:25.735594Z"
    },
    "papermill": {
     "duration": 0.038427,
     "end_time": "2025-07-20T13:27:25.738228",
     "exception": false,
     "start_time": "2025-07-20T13:27:25.699801",
     "status": "completed"
    },
    "tags": []
   },
   "outputs": [
    {
     "data": {
      "text/html": [
       "<div>\n",
       "<style scoped>\n",
       "    .dataframe tbody tr th:only-of-type {\n",
       "        vertical-align: middle;\n",
       "    }\n",
       "\n",
       "    .dataframe tbody tr th {\n",
       "        vertical-align: top;\n",
       "    }\n",
       "\n",
       "    .dataframe thead th {\n",
       "        text-align: right;\n",
       "    }\n",
       "</style>\n",
       "<table border=\"1\" class=\"dataframe\">\n",
       "  <thead>\n",
       "    <tr style=\"text-align: right;\">\n",
       "      <th></th>\n",
       "      <th>sent</th>\n",
       "      <th>pos_tags</th>\n",
       "    </tr>\n",
       "  </thead>\n",
       "  <tbody>\n",
       "    <tr>\n",
       "      <th>0</th>\n",
       "      <td>[برلين, ترفض, حصول, شركة, اميركية, على, رخصة, ...</td>\n",
       "      <td>[X, VERB, NOUN, NOUN, ADJ, ADP, NOUN, NOUN, NO...</td>\n",
       "    </tr>\n",
       "    <tr>\n",
       "      <th>1</th>\n",
       "      <td>[برلين, 15, -, 7, (, اف, ب, ), -, افادت, صحيفة...</td>\n",
       "      <td>[X, NUM, PUNCT, NUM, PUNCT, X, X, PUNCT, PUNCT...</td>\n",
       "    </tr>\n",
       "    <tr>\n",
       "      <th>2</th>\n",
       "      <td>[وفي, و, في, نيسان, /, ابريل, الماضي, ،, تخلت,...</td>\n",
       "      <td>[None, CCONJ, ADP, NOUN, PUNCT, NOUN, ADJ, PUN...</td>\n",
       "    </tr>\n",
       "    <tr>\n",
       "      <th>3</th>\n",
       "      <td>[وكانت, و, كانت, خسائر, المجموعة, الاسبانية, ا...</td>\n",
       "      <td>[None, CCONJ, VERB, NOUN, NOUN, ADJ, ADJ, VERB...</td>\n",
       "    </tr>\n",
       "    <tr>\n",
       "      <th>4</th>\n",
       "      <td>[واشارت, و, أشارت, صحيفة, الاحد, الى, ان, المس...</td>\n",
       "      <td>[None, CCONJ, VERB, NOUN, NOUN, ADP, SCONJ, NO...</td>\n",
       "    </tr>\n",
       "    <tr>\n",
       "      <th>...</th>\n",
       "      <td>...</td>\n",
       "      <td>...</td>\n",
       "    </tr>\n",
       "    <tr>\n",
       "      <th>6070</th>\n",
       "      <td>[تلقى, وزير, الخارجية, المصرى, احمد, ماهر, هنا...</td>\n",
       "      <td>[VERB, NOUN, NOUN, ADJ, X, X, X, X, NOUN, X, N...</td>\n",
       "    </tr>\n",
       "    <tr>\n",
       "      <th>6071</th>\n",
       "      <td>[وقالت, و, قالت, وكالة, انباء, الشرق, الاوسط, ...</td>\n",
       "      <td>[None, CCONJ, VERB, NOUN, NOUN, NOUN, ADJ, ADJ...</td>\n",
       "    </tr>\n",
       "    <tr>\n",
       "      <th>6072</th>\n",
       "      <td>[واكد, و, أكد, شعث, فى, الاتصال, على, ضرورة, ق...</td>\n",
       "      <td>[None, CCONJ, VERB, X, ADP, NOUN, ADP, NOUN, N...</td>\n",
       "    </tr>\n",
       "    <tr>\n",
       "      <th>6073</th>\n",
       "      <td>[وطالب, و, طالب, باول, اليوم, الحكومة, الفلسطي...</td>\n",
       "      <td>[None, CCONJ, VERB, X, NOUN, NOUN, ADJ, ADJ, N...</td>\n",
       "    </tr>\n",
       "    <tr>\n",
       "      <th>6074</th>\n",
       "      <td>[وقال, و, قال, باول, خلال, مؤتمر, صحفى, مشترك,...</td>\n",
       "      <td>[None, CCONJ, VERB, X, ADP, NOUN, ADJ, ADJ, AD...</td>\n",
       "    </tr>\n",
       "  </tbody>\n",
       "</table>\n",
       "<p>6075 rows × 2 columns</p>\n",
       "</div>"
      ],
      "text/plain": [
       "                                                   sent  \\\n",
       "0     [برلين, ترفض, حصول, شركة, اميركية, على, رخصة, ...   \n",
       "1     [برلين, 15, -, 7, (, اف, ب, ), -, افادت, صحيفة...   \n",
       "2     [وفي, و, في, نيسان, /, ابريل, الماضي, ،, تخلت,...   \n",
       "3     [وكانت, و, كانت, خسائر, المجموعة, الاسبانية, ا...   \n",
       "4     [واشارت, و, أشارت, صحيفة, الاحد, الى, ان, المس...   \n",
       "...                                                 ...   \n",
       "6070  [تلقى, وزير, الخارجية, المصرى, احمد, ماهر, هنا...   \n",
       "6071  [وقالت, و, قالت, وكالة, انباء, الشرق, الاوسط, ...   \n",
       "6072  [واكد, و, أكد, شعث, فى, الاتصال, على, ضرورة, ق...   \n",
       "6073  [وطالب, و, طالب, باول, اليوم, الحكومة, الفلسطي...   \n",
       "6074  [وقال, و, قال, باول, خلال, مؤتمر, صحفى, مشترك,...   \n",
       "\n",
       "                                               pos_tags  \n",
       "0     [X, VERB, NOUN, NOUN, ADJ, ADP, NOUN, NOUN, NO...  \n",
       "1     [X, NUM, PUNCT, NUM, PUNCT, X, X, PUNCT, PUNCT...  \n",
       "2     [None, CCONJ, ADP, NOUN, PUNCT, NOUN, ADJ, PUN...  \n",
       "3     [None, CCONJ, VERB, NOUN, NOUN, ADJ, ADJ, VERB...  \n",
       "4     [None, CCONJ, VERB, NOUN, NOUN, ADP, SCONJ, NO...  \n",
       "...                                                 ...  \n",
       "6070  [VERB, NOUN, NOUN, ADJ, X, X, X, X, NOUN, X, N...  \n",
       "6071  [None, CCONJ, VERB, NOUN, NOUN, NOUN, ADJ, ADJ...  \n",
       "6072  [None, CCONJ, VERB, X, ADP, NOUN, ADP, NOUN, N...  \n",
       "6073  [None, CCONJ, VERB, X, NOUN, NOUN, ADJ, ADJ, N...  \n",
       "6074  [None, CCONJ, VERB, X, ADP, NOUN, ADJ, ADJ, AD...  \n",
       "\n",
       "[6075 rows x 2 columns]"
      ]
     },
     "execution_count": 4,
     "metadata": {},
     "output_type": "execute_result"
    }
   ],
   "source": [
    "df=train_df\n",
    "df"
   ]
  },
  {
   "cell_type": "markdown",
   "id": "6deb88aa",
   "metadata": {
    "papermill": {
     "duration": 0.005366,
     "end_time": "2025-07-20T13:27:25.749285",
     "exception": false,
     "start_time": "2025-07-20T13:27:25.743919",
     "status": "completed"
    },
    "tags": []
   },
   "source": [
    "## 1. Reading the data into a pandas dataframe"
   ]
  },
  {
   "cell_type": "code",
   "execution_count": 5,
   "id": "01c41c80",
   "metadata": {
    "execution": {
     "iopub.execute_input": "2025-07-20T13:27:25.761406Z",
     "iopub.status.busy": "2025-07-20T13:27:25.761109Z",
     "iopub.status.idle": "2025-07-20T13:27:25.766193Z",
     "shell.execute_reply": "2025-07-20T13:27:25.765436Z"
    },
    "papermill": {
     "duration": 0.013024,
     "end_time": "2025-07-20T13:27:25.767767",
     "exception": false,
     "start_time": "2025-07-20T13:27:25.754743",
     "status": "completed"
    },
    "tags": []
   },
   "outputs": [
    {
     "data": {
      "text/plain": [
       "(6075, 2)"
      ]
     },
     "execution_count": 5,
     "metadata": {},
     "output_type": "execute_result"
    }
   ],
   "source": [
    "df.shape"
   ]
  },
  {
   "cell_type": "code",
   "execution_count": 6,
   "id": "4ba36e9a",
   "metadata": {
    "execution": {
     "iopub.execute_input": "2025-07-20T13:27:25.779878Z",
     "iopub.status.busy": "2025-07-20T13:27:25.779631Z",
     "iopub.status.idle": "2025-07-20T13:27:25.784777Z",
     "shell.execute_reply": "2025-07-20T13:27:25.783997Z"
    },
    "papermill": {
     "duration": 0.013151,
     "end_time": "2025-07-20T13:27:25.786428",
     "exception": false,
     "start_time": "2025-07-20T13:27:25.773277",
     "status": "completed"
    },
    "tags": []
   },
   "outputs": [
    {
     "data": {
      "text/plain": [
       "['برلين',\n",
       " 'ترفض',\n",
       " 'حصول',\n",
       " 'شركة',\n",
       " 'اميركية',\n",
       " 'على',\n",
       " 'رخصة',\n",
       " 'تصنيع',\n",
       " 'دبابة',\n",
       " '\"',\n",
       " 'ليوبارد',\n",
       " '\"',\n",
       " 'الالمانية']"
      ]
     },
     "execution_count": 6,
     "metadata": {},
     "output_type": "execute_result"
    }
   ],
   "source": [
    "df[\"sent\"][0]"
   ]
  },
  {
   "cell_type": "code",
   "execution_count": 7,
   "id": "c65c4215",
   "metadata": {
    "execution": {
     "iopub.execute_input": "2025-07-20T13:27:25.799171Z",
     "iopub.status.busy": "2025-07-20T13:27:25.798724Z",
     "iopub.status.idle": "2025-07-20T13:27:25.803934Z",
     "shell.execute_reply": "2025-07-20T13:27:25.803118Z"
    },
    "papermill": {
     "duration": 0.013168,
     "end_time": "2025-07-20T13:27:25.805433",
     "exception": false,
     "start_time": "2025-07-20T13:27:25.792265",
     "status": "completed"
    },
    "tags": []
   },
   "outputs": [
    {
     "data": {
      "text/plain": [
       "['X',\n",
       " 'VERB',\n",
       " 'NOUN',\n",
       " 'NOUN',\n",
       " 'ADJ',\n",
       " 'ADP',\n",
       " 'NOUN',\n",
       " 'NOUN',\n",
       " 'NOUN',\n",
       " 'PUNCT',\n",
       " 'X',\n",
       " 'PUNCT',\n",
       " 'ADJ']"
      ]
     },
     "execution_count": 7,
     "metadata": {},
     "output_type": "execute_result"
    }
   ],
   "source": [
    "df[\"pos_tags\"][0]"
   ]
  },
  {
   "cell_type": "markdown",
   "id": "12cef94e",
   "metadata": {
    "papermill": {
     "duration": 0.005552,
     "end_time": "2025-07-20T13:27:25.816761",
     "exception": false,
     "start_time": "2025-07-20T13:27:25.811209",
     "status": "completed"
    },
    "tags": []
   },
   "source": [
    "## 2. Exploring the dataset"
   ]
  },
  {
   "cell_type": "code",
   "execution_count": 8,
   "id": "e7a7822f",
   "metadata": {
    "execution": {
     "iopub.execute_input": "2025-07-20T13:27:25.829108Z",
     "iopub.status.busy": "2025-07-20T13:27:25.828867Z",
     "iopub.status.idle": "2025-07-20T13:27:27.399116Z",
     "shell.execute_reply": "2025-07-20T13:27:27.398241Z"
    },
    "papermill": {
     "duration": 1.578844,
     "end_time": "2025-07-20T13:27:27.401120",
     "exception": false,
     "start_time": "2025-07-20T13:27:25.822276",
     "status": "completed"
    },
    "tags": []
   },
   "outputs": [
    {
     "data": {
      "text/html": [
       "<div>\n",
       "<style scoped>\n",
       "    .dataframe tbody tr th:only-of-type {\n",
       "        vertical-align: middle;\n",
       "    }\n",
       "\n",
       "    .dataframe tbody tr th {\n",
       "        vertical-align: top;\n",
       "    }\n",
       "\n",
       "    .dataframe thead th {\n",
       "        text-align: right;\n",
       "    }\n",
       "</style>\n",
       "<table border=\"1\" class=\"dataframe\">\n",
       "  <thead>\n",
       "    <tr style=\"text-align: right;\">\n",
       "      <th></th>\n",
       "      <th>sent</th>\n",
       "      <th>pos_tags</th>\n",
       "    </tr>\n",
       "  </thead>\n",
       "  <tbody>\n",
       "    <tr>\n",
       "      <th>count</th>\n",
       "      <td>6075</td>\n",
       "      <td>6075</td>\n",
       "    </tr>\n",
       "    <tr>\n",
       "      <th>unique</th>\n",
       "      <td>5958</td>\n",
       "      <td>5764</td>\n",
       "    </tr>\n",
       "    <tr>\n",
       "      <th>top</th>\n",
       "      <td>[بكين, 3, مايو]</td>\n",
       "      <td>[X, NUM, NOUN]</td>\n",
       "    </tr>\n",
       "    <tr>\n",
       "      <th>freq</th>\n",
       "      <td>7</td>\n",
       "      <td>51</td>\n",
       "    </tr>\n",
       "  </tbody>\n",
       "</table>\n",
       "</div>"
      ],
      "text/plain": [
       "                   sent        pos_tags\n",
       "count              6075            6075\n",
       "unique             5958            5764\n",
       "top     [بكين, 3, مايو]  [X, NUM, NOUN]\n",
       "freq                  7              51"
      ]
     },
     "execution_count": 8,
     "metadata": {},
     "output_type": "execute_result"
    }
   ],
   "source": [
    "df.describe()"
   ]
  },
  {
   "cell_type": "code",
   "execution_count": 9,
   "id": "34237902",
   "metadata": {
    "execution": {
     "iopub.execute_input": "2025-07-20T13:27:27.414747Z",
     "iopub.status.busy": "2025-07-20T13:27:27.414144Z",
     "iopub.status.idle": "2025-07-20T13:27:28.182733Z",
     "shell.execute_reply": "2025-07-20T13:27:28.181768Z"
    },
    "papermill": {
     "duration": 0.77749,
     "end_time": "2025-07-20T13:27:28.184974",
     "exception": false,
     "start_time": "2025-07-20T13:27:27.407484",
     "status": "completed"
    },
    "tags": []
   },
   "outputs": [
    {
     "data": {
      "text/plain": [
       "pos_tags\n",
       "[X, NUM, NOUN]                                                                                                                                                                                                                                                                                                                                                                                                                                                                                                                                                                                                       51\n",
       "[NOUN, NUM, NOUN]                                                                                                                                                                                                                                                                                                                                                                                                                                                                                                                                                                                                    32\n",
       "[NOUN]                                                                                                                                                                                                                                                                                                                                                                                                                                                                                                                                                                                                               30\n",
       "[X, NUM, NOUN, NUM, PUNCT, NUM]                                                                                                                                                                                                                                                                                                                                                                                                                                                                                                                                                                                      30\n",
       "[X, X]                                                                                                                                                                                                                                                                                                                                                                                                                                                                                                                                                                                                               30\n",
       "                                                                                                                                                                                                                                                                                                                                                                                                                                                                                                                                                                                                                     ..\n",
       "[None, CCONJ, VERB, NOUN, ADP, NOUN, None, SCONJ, PRON, None, AUX, VERB, None, ADP, NOUN, ADJ, ADJ, None, ADP, NOUN, DET, VERB, None, ADP, PRON, NOUN, NOUN, ADP, X, X, PUNCT, X, VERB, None, ADP, NOUN, None, CCONJ, NOUN, None, ADP, NOUN, PRON, ADP, NOUN, None, ADP, NOUN, PART, None, VERB, PRON, PUNCT, None, CCONJ, VERB, None, ADP, NOUN, NOUN, NOUN, ADP, NOUN, None, CCONJ, NOUN, None, ADP, NOUN, VERB, NUM, ADJ, ADJ, None, CCONJ, NUM, ADJ, ADP, NOUN, PUNCT, VERB, ADJ, None, ADP, PRON, ADP, NOUN, ADP, ADP, NOUN, PUNCT, None, CCONJ, PRON, NOUN, VERB, ADP, NOUN, PUNCT, X, ...]                     1\n",
       "[ADP, NOUN, ADJ, PUNCT, VERB, NOUN, PUNCT, X, PUNCT, ADV, NOUN, ADJ, ADP, NOUN, VERB, None, ADP, PRON, NOUN, ADJ, ADP, NOUN, PUNCT, X, PUNCT, PUNCT, NOUN, NOUN, ADJ, PUNCT, None, CCONJ, DET, ADP, NOUN, NOUN, ADP, DET, None, VERB, PRON, NOUN, ADJ, None, CCONJ, NOUN, ADJ, ADP, NOUN, X, X, PUNCT, DET, VERB, NOUN, NOUN, ADP, NOUN, NOUN, None, ADP, NOUN, ADP, None, NOUN, PRON, None, ADP, NOUN, NOUN, X, X, ADP, NOUN, PUNCT, None, CCONJ, VERB, SCONJ, PART, NOUN, None, ADP, ADJ, ADJ, None, ADP, NOUN, PUNCT, None, CCONJ, SCONJ, None, NOUN, PRON, ADJ, ADJ, ADP, NOUN, None, ...]                        1\n",
       "[None, CCONJ, VERB, ADP, NOUN, ADJ, SCONJ, PUNCT, NOUN, ADJ, ADP, NOUN, VERB, DET, NOUN, None, CCONJ, VERB, PRON, ADP, NOUN, NOUN, NOUN, NOUN, ADJ, ADP, NOUN, NOUN, ADP, NOUN, PUNCT, PUNCT, None, CCONJ, VERB, X, VERB, ADP, NOUN, X, X, PUNCT, None, CCONJ, PRON, ADJ, ADJ, PUNCT, NOUN, NOUN, NOUN, NOUN, ADP, NOUN, VERB, NOUN, NOUN, NOUN, None, CCONJ, NOUN, None, CCONJ, NOUN, CCONJ, ADP, NOUN, ADJ, PUNCT, None, CCONJ, PRON, DET, VERB, ADJ, ADP, NOUN, None, NOUN, PRON, None, ADP, NOUN, PUNCT, None, CCONJ, VERB, NOUN, ADJ, ADP, NOUN, DET, NOUN, PUNCT, None, CCONJ, PART, VERB, None, NOUN, ...]     1\n",
       "[None, CCONJ, VERB, DET, NOUN, NOUN, None, ADP, ADJ, ADP, NOUN, PUNCT, None, CCONJ, VERB, NOUN, NOUN, X, X, PUNCT, NOUN, PUNCT, NOUN, NOUN, PUNCT, PUNCT, ADV, PUNCT, ADP, NOUN, NOUN, X, NOUN, PUNCT, PUNCT, None, PART, PRON, ADJ, ADP, None, NOUN, PRON, NOUN, ADJ, PUNCT, PUNCT, ADJ, ADP, SCONJ, PUNCT, NOUN, NOUN, ADJ, ADP, NOUN, NOUN, PRON, DET, None, ADP, PRON, NOUN, ADJ, ADP, NOUN, NOUN, NOUN, ADJ, PUNCT, PUNCT]                                                                                                                                                                                       1\n",
       "[None, CCONJ, VERB, NOUN, ADJ, ADV, NOUN, NOUN, DET, NOUN, None, ADP, CCONJ, PART, VERB, NUM, NUM, X, VERB, ADP, NOUN, None, NOUN, PRON, PUNCT]                                                                                                                                                                                                                                                                                                                                                                                                                                                                       1\n",
       "Name: count, Length: 5764, dtype: int64"
      ]
     },
     "execution_count": 9,
     "metadata": {},
     "output_type": "execute_result"
    }
   ],
   "source": [
    "df.pos_tags.value_counts()"
   ]
  },
  {
   "cell_type": "code",
   "execution_count": 10,
   "id": "8ce94cc8",
   "metadata": {
    "execution": {
     "iopub.execute_input": "2025-07-20T13:27:28.207959Z",
     "iopub.status.busy": "2025-07-20T13:27:28.207682Z",
     "iopub.status.idle": "2025-07-20T13:27:28.212893Z",
     "shell.execute_reply": "2025-07-20T13:27:28.211725Z"
    },
    "papermill": {
     "duration": 0.018089,
     "end_time": "2025-07-20T13:27:28.214731",
     "exception": false,
     "start_time": "2025-07-20T13:27:28.196642",
     "status": "completed"
    },
    "tags": []
   },
   "outputs": [
    {
     "name": "stdout",
     "output_type": "stream",
     "text": [
      "6075\n"
     ]
    }
   ],
   "source": [
    "print(len(df))"
   ]
  },
  {
   "cell_type": "code",
   "execution_count": 11,
   "id": "00b863eb",
   "metadata": {
    "execution": {
     "iopub.execute_input": "2025-07-20T13:27:28.233396Z",
     "iopub.status.busy": "2025-07-20T13:27:28.233018Z",
     "iopub.status.idle": "2025-07-20T13:27:37.016068Z",
     "shell.execute_reply": "2025-07-20T13:27:37.015174Z"
    },
    "papermill": {
     "duration": 8.795332,
     "end_time": "2025-07-20T13:27:37.018067",
     "exception": false,
     "start_time": "2025-07-20T13:27:28.222735",
     "status": "completed"
    },
    "tags": []
   },
   "outputs": [
    {
     "name": "stdout",
     "output_type": "stream",
     "text": [
      "Collecting conllu\r\n",
      "  Downloading conllu-6.0.0-py3-none-any.whl.metadata (21 kB)\r\n",
      "Downloading conllu-6.0.0-py3-none-any.whl (16 kB)\r\n",
      "Installing collected packages: conllu\r\n",
      "Successfully installed conllu-6.0.0\r\n"
     ]
    }
   ],
   "source": [
    "!pip install conllu\n"
   ]
  },
  {
   "cell_type": "code",
   "execution_count": 12,
   "id": "050cc31a",
   "metadata": {
    "execution": {
     "iopub.execute_input": "2025-07-20T13:27:37.032636Z",
     "iopub.status.busy": "2025-07-20T13:27:37.032297Z",
     "iopub.status.idle": "2025-07-20T13:27:44.962767Z",
     "shell.execute_reply": "2025-07-20T13:27:44.961997Z"
    },
    "papermill": {
     "duration": 7.94008,
     "end_time": "2025-07-20T13:27:44.964781",
     "exception": false,
     "start_time": "2025-07-20T13:27:37.024701",
     "status": "completed"
    },
    "tags": []
   },
   "outputs": [],
   "source": [
    "import conllu\n",
    "import pandas as pd\n",
    "\n",
    "# Load PADT data in CoNLL-U format\n",
    "train_path = '/kaggle/input/ud-arabic-padt/ar_padt-ud-train.conllu'\n",
    "with open(train_path, 'r', encoding='utf-8') as f:\n",
    "    train_data = conllu.parse(f.read())\n",
    "\n",
    "# Extract lists of words and POS tags per sentence\n",
    "def extract_sents_and_tags(conllu_sents):\n",
    "    sents, tags = [], []\n",
    "    for sent in conllu_sents:\n",
    "        tokens = []\n",
    "        pos_tags = []\n",
    "        for token in sent:\n",
    "            if isinstance(token['id'], int):\n",
    "                tokens.append(token['form'])\n",
    "                pos_tags.append(token['upostag'])\n",
    "        sents.append(tokens)\n",
    "        tags.append(pos_tags)\n",
    "    return sents, tags\n",
    "\n",
    "train_sents, train_tags = extract_sents_and_tags(train_data)\n"
   ]
  },
  {
   "cell_type": "code",
   "execution_count": 13,
   "id": "84f0589a",
   "metadata": {
    "execution": {
     "iopub.execute_input": "2025-07-20T13:27:44.979063Z",
     "iopub.status.busy": "2025-07-20T13:27:44.978769Z",
     "iopub.status.idle": "2025-07-20T13:27:44.984413Z",
     "shell.execute_reply": "2025-07-20T13:27:44.983613Z"
    },
    "papermill": {
     "duration": 0.014717,
     "end_time": "2025-07-20T13:27:44.986134",
     "exception": false,
     "start_time": "2025-07-20T13:27:44.971417",
     "status": "completed"
    },
    "tags": []
   },
   "outputs": [
    {
     "data": {
      "text/plain": [
       "['برلين',\n",
       " 'ترفض',\n",
       " 'حصول',\n",
       " 'شركة',\n",
       " 'اميركية',\n",
       " 'على',\n",
       " 'رخصة',\n",
       " 'تصنيع',\n",
       " 'دبابة',\n",
       " '\"',\n",
       " 'ليوبارد',\n",
       " '\"',\n",
       " 'الالمانية']"
      ]
     },
     "execution_count": 13,
     "metadata": {},
     "output_type": "execute_result"
    }
   ],
   "source": [
    "train_sents[0]\n"
   ]
  },
  {
   "cell_type": "code",
   "execution_count": 14,
   "id": "c34b7060",
   "metadata": {
    "execution": {
     "iopub.execute_input": "2025-07-20T13:27:44.999743Z",
     "iopub.status.busy": "2025-07-20T13:27:44.999520Z",
     "iopub.status.idle": "2025-07-20T13:27:45.004361Z",
     "shell.execute_reply": "2025-07-20T13:27:45.003598Z"
    },
    "papermill": {
     "duration": 0.013426,
     "end_time": "2025-07-20T13:27:45.006009",
     "exception": false,
     "start_time": "2025-07-20T13:27:44.992583",
     "status": "completed"
    },
    "tags": []
   },
   "outputs": [
    {
     "data": {
      "text/plain": [
       "['X',\n",
       " 'VERB',\n",
       " 'NOUN',\n",
       " 'NOUN',\n",
       " 'ADJ',\n",
       " 'ADP',\n",
       " 'NOUN',\n",
       " 'NOUN',\n",
       " 'NOUN',\n",
       " 'PUNCT',\n",
       " 'X',\n",
       " 'PUNCT',\n",
       " 'ADJ']"
      ]
     },
     "execution_count": 14,
     "metadata": {},
     "output_type": "execute_result"
    }
   ],
   "source": [
    "train_tags[0]"
   ]
  },
  {
   "cell_type": "code",
   "execution_count": 15,
   "id": "02f0776d",
   "metadata": {
    "execution": {
     "iopub.execute_input": "2025-07-20T13:27:45.019884Z",
     "iopub.status.busy": "2025-07-20T13:27:45.019670Z",
     "iopub.status.idle": "2025-07-20T13:27:46.250928Z",
     "shell.execute_reply": "2025-07-20T13:27:46.250046Z"
    },
    "papermill": {
     "duration": 1.240753,
     "end_time": "2025-07-20T13:27:46.253305",
     "exception": false,
     "start_time": "2025-07-20T13:27:45.012552",
     "status": "completed"
    },
    "tags": []
   },
   "outputs": [
    {
     "data": {
      "image/png": "[encoded data removed]",
      "text/plain": [
       "<Figure size 1800x500 with 1 Axes>"
      ]
     },
     "metadata": {},
     "output_type": "display_data"
    }
   ],
   "source": [
    "import networkx as nx\n",
    "import matplotlib.pyplot as plt\n",
    "\n",
    "sentence = train_sents[0]\n",
    "true_tags = train_tags[0]\n",
    "\n",
    "\n",
    "G = nx.DiGraph()\n",
    "for i in range(len(sentence)):\n",
    "    G.add_node(sentence[i], pos=true_tags[i])\n",
    "    if i > 0:\n",
    "        G.add_edge(sentence[i-1], sentence[i])\n",
    "\n",
    "labels = {node: f\"{node}\\n({G.nodes[node]['pos']})\" for node in G.nodes()}\n",
    "\n",
    "\n",
    "plt.figure(figsize=(18, 5))\n",
    "\n",
    "\n",
    "pos_layout = nx.spring_layout(G, seed=1, k=2.0, iterations=200)\n",
    "\n",
    "nx.draw(\n",
    "    G,\n",
    "    pos_layout,\n",
    "    node_color='skyblue',\n",
    "    with_labels=False,\n",
    "    node_size=2000,\n",
    "    arrows=True,\n",
    "    arrowstyle='-|>',\n",
    "    arrowsize=20\n",
    ")\n",
    "nx.draw_networkx_labels(G, pos_layout, labels, font_weight='bold', font_size=15)\n",
    "\n",
    "plt.title(\"POS Network Graph (Expanded and Spaced)\")\n",
    "plt.axis('off')\n",
    "plt.show()\n"
   ]
  },
  {
   "cell_type": "markdown",
   "id": "d3d8cc49",
   "metadata": {
    "papermill": {
     "duration": 0.00744,
     "end_time": "2025-07-20T13:27:46.268835",
     "exception": false,
     "start_time": "2025-07-20T13:27:46.261395",
     "status": "completed"
    },
    "tags": []
   },
   "source": [
    "## 2. Deep Learning (RNN / LSTM) POS Tagging Pipeline\n",
    "## Preprocessing: Tokenization and Vocab Encoding"
   ]
  },
  {
   "cell_type": "code",
   "execution_count": 16,
   "id": "b3b6146d",
   "metadata": {
    "execution": {
     "iopub.execute_input": "2025-07-20T13:27:46.285234Z",
     "iopub.status.busy": "2025-07-20T13:27:46.284763Z",
     "iopub.status.idle": "2025-07-20T13:28:01.081990Z",
     "shell.execute_reply": "2025-07-20T13:28:01.081269Z"
    },
    "papermill": {
     "duration": 14.807703,
     "end_time": "2025-07-20T13:28:01.084051",
     "exception": false,
     "start_time": "2025-07-20T13:27:46.276348",
     "status": "completed"
    },
    "tags": []
   },
   "outputs": [
    {
     "name": "stderr",
     "output_type": "stream",
     "text": [
      "2025-07-20 13:27:48.610358: E external/local_xla/xla/stream_executor/cuda/cuda_dnn.cc:9261] Unable to register cuDNN factory: Attempting to register factory for plugin cuDNN when one has already been registered\n",
      "2025-07-20 13:27:48.610484: E external/local_xla/xla/stream_executor/cuda/cuda_fft.cc:607] Unable to register cuFFT factory: Attempting to register factory for plugin cuFFT when one has already been registered\n",
      "2025-07-20 13:27:48.780234: E external/local_xla/xla/stream_executor/cuda/cuda_blas.cc:1515] Unable to register cuBLAS factory: Attempting to register factory for plugin cuBLAS when one has already been registered\n"
     ]
    }
   ],
   "source": [
    "from keras.preprocessing.sequence import pad_sequences\n",
    "import tensorflow as tf\n",
    "from sklearn.model_selection import train_test_split\n",
    "from tensorflow.keras.layers import Embedding, LSTM, Dense, TimeDistributed, SimpleRNN\n",
    "from tensorflow.keras.models import Sequential"
   ]
  },
  {
   "cell_type": "code",
   "execution_count": 17,
   "id": "4689f7d8",
   "metadata": {
    "execution": {
     "iopub.execute_input": "2025-07-20T13:28:01.105034Z",
     "iopub.status.busy": "2025-07-20T13:28:01.104050Z",
     "iopub.status.idle": "2025-07-20T13:28:01.110568Z",
     "shell.execute_reply": "2025-07-20T13:28:01.109724Z"
    },
    "papermill": {
     "duration": 0.017004,
     "end_time": "2025-07-20T13:28:01.112237",
     "exception": false,
     "start_time": "2025-07-20T13:28:01.095233",
     "status": "completed"
    },
    "tags": []
   },
   "outputs": [],
   "source": [
    "def get_numbers(df):\n",
    "    # Convert tokens and POS tags to numeric representation\n",
    "    vocab = set([word for sentence in df[\"sent\"] for word in sentence])\n",
    "    pos_tag_set = set([tag for tags in df[\"pos_tags\"] for tag in tags])\n",
    "\n",
    "    word2idx = {w: i + 1 for i, w in enumerate(vocab)}\n",
    "    pos2idx = {t: i for i, t in enumerate(pos_tag_set)}\n",
    "    idx2pos = {i: t for i, t in enumerate(pos_tag_set)}\n",
    "\n",
    "    return [[word2idx[token] for token in sentence] for sentence in df[\"sent\"]],\\\n",
    "           [[pos2idx[tag] for tag in tags] for tags in df[\"pos_tags\"]], vocab, pos_tag_set"
   ]
  },
  {
   "cell_type": "code",
   "execution_count": 18,
   "id": "8204ca91",
   "metadata": {
    "execution": {
     "iopub.execute_input": "2025-07-20T13:28:01.129040Z",
     "iopub.status.busy": "2025-07-20T13:28:01.128406Z",
     "iopub.status.idle": "2025-07-20T13:28:01.437433Z",
     "shell.execute_reply": "2025-07-20T13:28:01.436680Z"
    },
    "papermill": {
     "duration": 0.319423,
     "end_time": "2025-07-20T13:28:01.439397",
     "exception": false,
     "start_time": "2025-07-20T13:28:01.119974",
     "status": "completed"
    },
    "tags": []
   },
   "outputs": [],
   "source": [
    "X, Y, vocab, pos_tag_set = get_numbers(df)\n",
    "dev_X, dev_Y, _, _ = get_numbers(dev_df)\n",
    "test_X, test_Y, _, _ = get_numbers(test_df)"
   ]
  },
  {
   "cell_type": "code",
   "execution_count": 19,
   "id": "9566a713",
   "metadata": {
    "execution": {
     "iopub.execute_input": "2025-07-20T13:28:01.456647Z",
     "iopub.status.busy": "2025-07-20T13:28:01.456088Z",
     "iopub.status.idle": "2025-07-20T13:28:01.461762Z",
     "shell.execute_reply": "2025-07-20T13:28:01.460959Z"
    },
    "papermill": {
     "duration": 0.015718,
     "end_time": "2025-07-20T13:28:01.463275",
     "exception": false,
     "start_time": "2025-07-20T13:28:01.447557",
     "status": "completed"
    },
    "tags": []
   },
   "outputs": [
    {
     "data": {
      "text/plain": [
       "([23470,\n",
       "  3642,\n",
       "  18345,\n",
       "  5822,\n",
       "  10004,\n",
       "  27134,\n",
       "  22920,\n",
       "  5559,\n",
       "  4381,\n",
       "  3936,\n",
       "  24445,\n",
       "  3936,\n",
       "  19717],\n",
       " [14, 16, 5, 5, 17, 15, 5, 5, 5, 7, 14, 7, 17])"
      ]
     },
     "execution_count": 19,
     "metadata": {},
     "output_type": "execute_result"
    }
   ],
   "source": [
    "X[0], Y[0]"
   ]
  },
  {
   "cell_type": "markdown",
   "id": "a7172e5d",
   "metadata": {
    "papermill": {
     "duration": 0.007358,
     "end_time": "2025-07-20T13:28:01.478386",
     "exception": false,
     "start_time": "2025-07-20T13:28:01.471028",
     "status": "completed"
    },
    "tags": []
   },
   "source": [
    "#### Determine the length of the longest sentence¶\n"
   ]
  },
  {
   "cell_type": "code",
   "execution_count": 20,
   "id": "2103ea36",
   "metadata": {
    "execution": {
     "iopub.execute_input": "2025-07-20T13:28:01.494410Z",
     "iopub.status.busy": "2025-07-20T13:28:01.494145Z",
     "iopub.status.idle": "2025-07-20T13:28:01.555856Z",
     "shell.execute_reply": "2025-07-20T13:28:01.555173Z"
    },
    "papermill": {
     "duration": 0.071755,
     "end_time": "2025-07-20T13:28:01.557645",
     "exception": false,
     "start_time": "2025-07-20T13:28:01.485890",
     "status": "completed"
    },
    "tags": []
   },
   "outputs": [],
   "source": [
    "# Pad sequences to have same length\n",
    "max_len=478\n",
    "\n",
    "X_padded =pad_sequences(X, maxlen=max_len, padding='post')\n",
    "Y_padded =pad_sequences(Y, maxlen=max_len, padding='post')\n",
    "\n",
    "dev_X_padded=pad_sequences(dev_X, maxlen=max_len, padding='post')\n",
    "dev_Y_padded = pad_sequences(dev_Y, maxlen=max_len, padding='post')\n",
    "\n",
    "test_X_padded=pad_sequences(test_X, maxlen=max_len, padding='post') \n",
    "test_Y_padded=pad_sequences(test_Y, maxlen=max_len, padding='post')"
   ]
  },
  {
   "cell_type": "code",
   "execution_count": 21,
   "id": "8641acf8",
   "metadata": {
    "execution": {
     "iopub.execute_input": "2025-07-20T13:28:01.574613Z",
     "iopub.status.busy": "2025-07-20T13:28:01.574343Z",
     "iopub.status.idle": "2025-07-20T13:28:01.578492Z",
     "shell.execute_reply": "2025-07-20T13:28:01.577671Z"
    },
    "papermill": {
     "duration": 0.014419,
     "end_time": "2025-07-20T13:28:01.580109",
     "exception": false,
     "start_time": "2025-07-20T13:28:01.565690",
     "status": "completed"
    },
    "tags": []
   },
   "outputs": [],
   "source": [
    "def evaluate_model(model, X_test, y_test):\n",
    "    loss, accuracy = model.evaluate(X_test, y_test)\n",
    "    print(\"Test Loss:\", loss)\n",
    "    print(\"Test Accuracy:\", accuracy)"
   ]
  },
  {
   "cell_type": "markdown",
   "id": "1707b966",
   "metadata": {
    "papermill": {
     "duration": 0.007421,
     "end_time": "2025-07-20T13:28:01.595177",
     "exception": false,
     "start_time": "2025-07-20T13:28:01.587756",
     "status": "completed"
    },
    "tags": []
   },
   "source": [
    "### RNN"
   ]
  },
  {
   "cell_type": "code",
   "execution_count": 22,
   "id": "31c1a9d3",
   "metadata": {
    "execution": {
     "iopub.execute_input": "2025-07-20T13:28:01.611416Z",
     "iopub.status.busy": "2025-07-20T13:28:01.611155Z",
     "iopub.status.idle": "2025-07-20T13:28:13.503678Z",
     "shell.execute_reply": "2025-07-20T13:28:13.502729Z"
    },
    "papermill": {
     "duration": 11.90244,
     "end_time": "2025-07-20T13:28:13.505308",
     "exception": false,
     "start_time": "2025-07-20T13:28:01.602868",
     "status": "completed"
    },
    "tags": []
   },
   "outputs": [
    {
     "name": "stdout",
     "output_type": "stream",
     "text": [
      "Epoch 1/2\n",
      "\u001b[1m 3/95\u001b[0m \u001b[37m━━━━━━━━━━━━━━━━━━━━\u001b[0m \u001b[1m3s\u001b[0m 43ms/step - accuracy: 0.1067 - loss: 2.7079"
     ]
    },
    {
     "name": "stderr",
     "output_type": "stream",
     "text": [
      "WARNING: All log messages before absl::InitializeLog() is called are written to STDERR\n",
      "I0000 00:00:1753018086.100685      95 device_compiler.h:186] Compiled cluster using XLA!  This line is logged at most once for the lifetime of the process.\n",
      "W0000 00:00:1753018086.156079      95 graph_launch.cc:671] Fallback to op-by-op mode because memset node breaks graph update\n"
     ]
    },
    {
     "name": "stdout",
     "output_type": "stream",
     "text": [
      "\u001b[1m95/95\u001b[0m \u001b[32m━━━━━━━━━━━━━━━━━━━━\u001b[0m\u001b[37m\u001b[0m \u001b[1m8s\u001b[0m 45ms/step - accuracy: 0.8343 - loss: 1.3722\n",
      "Epoch 2/2\n",
      "\u001b[1m95/95\u001b[0m \u001b[32m━━━━━━━━━━━━━━━━━━━━\u001b[0m\u001b[37m\u001b[0m \u001b[1m3s\u001b[0m 32ms/step - accuracy: 0.9432 - loss: 0.3138\n"
     ]
    }
   ],
   "source": [
    "# Build RNN model\n",
    "model = Sequential([\n",
    "        Embedding(input_dim=len(vocab) + 1, output_dim=8),\n",
    "        SimpleRNN(16, return_sequences=True),\n",
    "        Dense(len(pos_tag_set), activation='softmax')\n",
    "    ])\n",
    "model.compile(loss='sparse_categorical_crossentropy', optimizer='adam', metrics=['accuracy'])\n",
    "\n",
    "# Train model\n",
    "history = model.fit(X_padded, Y_padded, epochs=2, batch_size=64)"
   ]
  },
  {
   "cell_type": "code",
   "execution_count": 23,
   "id": "4ad27bad",
   "metadata": {
    "execution": {
     "iopub.execute_input": "2025-07-20T13:28:13.531726Z",
     "iopub.status.busy": "2025-07-20T13:28:13.531188Z",
     "iopub.status.idle": "2025-07-20T13:28:15.579923Z",
     "shell.execute_reply": "2025-07-20T13:28:15.579117Z"
    },
    "papermill": {
     "duration": 2.06318,
     "end_time": "2025-07-20T13:28:15.581531",
     "exception": false,
     "start_time": "2025-07-20T13:28:13.518351",
     "status": "completed"
    },
    "tags": []
   },
   "outputs": [
    {
     "name": "stdout",
     "output_type": "stream",
     "text": [
      "\u001b[1m29/29\u001b[0m \u001b[32m━━━━━━━━━━━━━━━━━━━━\u001b[0m\u001b[37m\u001b[0m \u001b[1m1s\u001b[0m 24ms/step - accuracy: 0.9443 - loss: 0.2470\n",
      "Test Loss: 0.25446489453315735\n",
      "Test Accuracy: 0.9427367448806763\n",
      "\u001b[1m22/22\u001b[0m \u001b[32m━━━━━━━━━━━━━━━━━━━━\u001b[0m\u001b[37m\u001b[0m \u001b[1m1s\u001b[0m 28ms/step - accuracy: 0.9223 - loss: 0.3327\n",
      "Test Loss: 0.3078235983848572\n",
      "Test Accuracy: 0.928661048412323\n"
     ]
    }
   ],
   "source": [
    "evaluate_model(model, dev_X_padded, dev_Y_padded)\n",
    "evaluate_model(model, test_X_padded, test_Y_padded)"
   ]
  },
  {
   "cell_type": "markdown",
   "id": "85e1db08",
   "metadata": {
    "papermill": {
     "duration": 0.012333,
     "end_time": "2025-07-20T13:28:15.606777",
     "exception": false,
     "start_time": "2025-07-20T13:28:15.594444",
     "status": "completed"
    },
    "tags": []
   },
   "source": [
    "### LSTM"
   ]
  },
  {
   "cell_type": "markdown",
   "id": "2378440f",
   "metadata": {
    "papermill": {
     "duration": 0.012263,
     "end_time": "2025-07-20T13:28:15.631439",
     "exception": false,
     "start_time": "2025-07-20T13:28:15.619176",
     "status": "completed"
    },
    "tags": []
   },
   "source": [
    "I tried simple LSTM models with variant hyper-parameters -including #nodes, batch_size, and #epochs- and  the best that I got was 79.69% training accuracy 81.92% dev accuracy and 69.09% test accuracy<br>\n",
    "I tried the same simple LSTM models with variant hyper-parameters and the best that I got was 91.58% training accuracy 92.39% dev accuracy and 90.46% test accuracy.<br> \n",
    "The only difference between the first batch of experiments and the second ones was the `maxlen` provided to the `pad_sequences` function, as in the first no.of experiments `maxlen = 150` and in the second batch of experiments  `maxlen = 478` where 478 is the length of the biggest sequence in the training dataset."
   ]
  },
  {
   "cell_type": "code",
   "execution_count": 24,
   "id": "acd689ed",
   "metadata": {
    "execution": {
     "iopub.execute_input": "2025-07-20T13:28:15.658033Z",
     "iopub.status.busy": "2025-07-20T13:28:15.657279Z",
     "iopub.status.idle": "2025-07-20T13:28:21.254144Z",
     "shell.execute_reply": "2025-07-20T13:28:21.253477Z"
    },
    "papermill": {
     "duration": 5.611788,
     "end_time": "2025-07-20T13:28:21.255763",
     "exception": false,
     "start_time": "2025-07-20T13:28:15.643975",
     "status": "completed"
    },
    "tags": []
   },
   "outputs": [
    {
     "name": "stdout",
     "output_type": "stream",
     "text": [
      "Epoch 1/2\n",
      "\u001b[1m95/95\u001b[0m \u001b[32m━━━━━━━━━━━━━━━━━━━━\u001b[0m\u001b[37m\u001b[0m \u001b[1m4s\u001b[0m 15ms/step - accuracy: 0.8666 - loss: 1.0166\n",
      "Epoch 2/2\n",
      "\u001b[1m95/95\u001b[0m \u001b[32m━━━━━━━━━━━━━━━━━━━━\u001b[0m\u001b[37m\u001b[0m \u001b[1m1s\u001b[0m 13ms/step - accuracy: 0.9353 - loss: 0.2371\n"
     ]
    }
   ],
   "source": [
    "# Build LSTM model\n",
    "model = Sequential([\n",
    "        Embedding(input_dim=len(vocab) + 1, output_dim=16),\n",
    "        LSTM(32, return_sequences=True),\n",
    "        Dense(len(pos_tag_set), activation='softmax')\n",
    "    ])\n",
    "model.compile(loss='sparse_categorical_crossentropy', optimizer='adam', metrics=['accuracy'])\n",
    "\n",
    "# Train model\n",
    "history = model.fit(X_padded, Y_padded, epochs=2, batch_size=64)"
   ]
  },
  {
   "cell_type": "code",
   "execution_count": 25,
   "id": "de859c46",
   "metadata": {
    "execution": {
     "iopub.execute_input": "2025-07-20T13:28:21.287542Z",
     "iopub.status.busy": "2025-07-20T13:28:21.287155Z",
     "iopub.status.idle": "2025-07-20T13:28:21.914575Z",
     "shell.execute_reply": "2025-07-20T13:28:21.913606Z"
    },
    "papermill": {
     "duration": 0.644943,
     "end_time": "2025-07-20T13:28:21.916188",
     "exception": false,
     "start_time": "2025-07-20T13:28:21.271245",
     "status": "completed"
    },
    "tags": []
   },
   "outputs": [
    {
     "name": "stdout",
     "output_type": "stream",
     "text": [
      "\u001b[1m29/29\u001b[0m \u001b[32m━━━━━━━━━━━━━━━━━━━━\u001b[0m\u001b[37m\u001b[0m \u001b[1m0s\u001b[0m 6ms/step - accuracy: 0.9448 - loss: 0.1941\n",
      "Test Loss: 0.2000492513179779\n",
      "Test Accuracy: 0.9432615041732788\n",
      "\u001b[1m22/22\u001b[0m \u001b[32m━━━━━━━━━━━━━━━━━━━━\u001b[0m\u001b[37m\u001b[0m \u001b[1m0s\u001b[0m 6ms/step - accuracy: 0.9242 - loss: 0.3021\n",
      "Test Loss: 0.2768779993057251\n",
      "Test Accuracy: 0.930500864982605\n"
     ]
    }
   ],
   "source": [
    "evaluate_model(model, dev_X_padded, dev_Y_padded)\n",
    "evaluate_model(model, test_X_padded, test_Y_padded)"
   ]
  }
 ],
 "metadata": {
  "kaggle": {
   "accelerator": "nvidiaTeslaT4",
   "dataSources": [
    {
     "datasetId": 5417317,
     "sourceId": 8993871,
     "sourceType": "datasetVersion"
    }
   ],
   "dockerImageVersionId": 30746,
   "isGpuEnabled": true,
   "isInternetEnabled": true,
   "language": "python",
   "sourceType": "notebook"
  },
  "kernelspec": {
   "display_name": "Python 3",
   "language": "python",
   "name": "python3"
  },
  "language_info": {
   "codemirror_mode": {
    "name": "ipython",
    "version": 3
   },
   "file_extension": ".py",
   "mimetype": "text/x-python",
   "name": "python",
   "nbconvert_exporter": "python",
   "pygments_lexer": "ipython3",
   "version": "3.10.13"
  },
  "papermill": {
   "default_parameters": {},
   "duration": 100.827458,
   "end_time": "2025-07-20T13:28:24.750553",
   "environment_variables": {},
   "exception": null,
   "input_path": "__notebook__.ipynb",
   "output_path": "__notebook__.ipynb",
   "parameters": {},
   "start_time": "2025-07-20T13:26:43.923095",
   "version": "2.5.0"
  }
 },
 "nbformat": 4,
 "nbformat_minor": 5
}
